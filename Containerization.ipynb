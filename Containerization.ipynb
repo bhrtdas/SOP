{
 "cells": [
  {
   "cell_type": "markdown",
   "metadata": {},
   "source": [
    "Launch ECS t2.micro instance on AWS\n",
    "https://docs.aws.amazon.com/efs/latest/ug/gs-step-one-create-ec2-resources.html\n",
    "Note: the standard linux free-tier is Centos, but if you scroll down there's an Ubuntu available. \n",
    "\n",
    "Configure the security wizard to allow outbound/inbound traffic on needed ports (for instance, Dradis needs 3000). \n",
    "\n",
    "Get docker containers up and running on Ubuntu:\n",
    "https://www.digitalocean.com/community/tutorials/how-to-install-and-use-docker-on-ubuntu-16-04\n",
    "\n",
    "Next, look for resource to launch containers on an AWS machine. Try this for starters:\n"
   ]
  }
 ],
 "metadata": {
  "kernelspec": {
   "display_name": "Python 3",
   "language": "python",
   "name": "python3"
  },
  "language_info": {
   "codemirror_mode": {
    "name": "ipython",
    "version": 3
   },
   "file_extension": ".py",
   "mimetype": "text/x-python",
   "name": "python",
   "nbconvert_exporter": "python",
   "pygments_lexer": "ipython3",
   "version": "3.6.5"
  }
 },
 "nbformat": 4,
 "nbformat_minor": 2
}
