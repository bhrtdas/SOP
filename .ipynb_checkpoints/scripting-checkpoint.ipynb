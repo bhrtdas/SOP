{
 "cells": [
  {
   "cell_type": "code",
   "execution_count": 3,
   "metadata": {},
   "outputs": [
    {
     "ename": "SyntaxError",
     "evalue": "invalid syntax (<ipython-input-3-251afa9a6453>, line 5)",
     "output_type": "error",
     "traceback": [
      "\u001b[1;36m  File \u001b[1;32m\"<ipython-input-3-251afa9a6453>\"\u001b[1;36m, line \u001b[1;32m5\u001b[0m\n\u001b[1;33m    python -m virtualenv [venvname] --python=/usr/bin/python2.6 <path/to/new/virtualenv/>\u001b[0m\n\u001b[1;37m                       ^\u001b[0m\n\u001b[1;31mSyntaxError\u001b[0m\u001b[1;31m:\u001b[0m invalid syntax\n"
     ]
    }
   ],
   "source": [
    "# Create a virtual environment ... \n",
    "# (In Windows using GitBash)\n",
    "# (Install pip if it isn't already)\n",
    "# Navigate to root project directory\n",
    "python -m virtualenv [venvname] --python=/path/to/python[Version#] <path/to/new/virtualenv/>\n",
    "# Activate virtualenv\n",
    "source path/to/new/virtualenv/Scripts/activate"
   ]
  },
  {
   "cell_type": "code",
   "execution_count": null,
   "metadata": {},
   "outputs": [],
   "source": [
    "# (In Ubuntu)\n",
    "# (Install virtualenv pip and python versions if they aren't already)\n",
    "sudo apt install python2.7 pip-install pip3-install virtualenv\n",
    "# Navigate to root project directory\n",
    "virtualenv -p python[version] path/to/new/virtualenv\n",
    "# Activate virtualenv\n",
    "source path/to/new/virtualenv/Scripts/activate"
   ]
  },
  {
   "cell_type": "code",
   "execution_count": null,
   "metadata": {},
   "outputs": [],
   "source": []
  }
 ],
 "metadata": {
  "kernelspec": {
   "display_name": "Python 3",
   "language": "python",
   "name": "python3"
  },
  "language_info": {
   "codemirror_mode": {
    "name": "ipython",
    "version": 3
   },
   "file_extension": ".py",
   "mimetype": "text/x-python",
   "name": "python",
   "nbconvert_exporter": "python",
   "pygments_lexer": "ipython3",
   "version": "3.6.5"
  }
 },
 "nbformat": 4,
 "nbformat_minor": 2
}
